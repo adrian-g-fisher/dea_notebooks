{
 "cells": [
  {
   "cell_type": "code",
   "execution_count": 2,
   "metadata": {},
   "outputs": [],
   "source": [
    "%matplotlib inline\n",
    "\n",
    "import datacube\n",
    "import rasterio.crs\n",
    "import geopandas as gpd\n",
    "import xarray as xr\n",
    "import numpy as np\n",
    "import matplotlib.pyplot as plt\n",
    "from datacube.utils import geometry\n",
    "from dea_tools.spatial import xr_rasterize\n",
    "from dea_tools.plotting import rgb"
   ]
  },
  {
   "cell_type": "code",
   "execution_count": 3,
   "metadata": {},
   "outputs": [],
   "source": [
    "dc = datacube.Datacube(app='rabbit_colours')"
   ]
  },
  {
   "cell_type": "code",
   "execution_count": 6,
   "metadata": {},
   "outputs": [],
   "source": [
    "gdf = gpd.read_file('rabbits_500m.shp')\n",
    "\n",
    "# Create a csv file to save results \n",
    "with open('rabbit_colours.csv', 'w') as f:\n",
    "    f.write('Id,Year,Red,Green,Blue\\n')\n",
    "\n",
    "# Loop through polygons\n",
    "for index, row in gdf.iterrows():\n",
    "    \n",
    "    # Get site ID\n",
    "    ID = str(row['Id'])\n",
    "    \n",
    "    # Extract the feature's geometry as a datacube geometry object\n",
    "    geom = geometry.Geometry(geom=row.geometry, crs=gdf.crs)\n",
    "    \n",
    "    # Loop over years and load geomedian landsat data\n",
    "    for y in range(2013, 2023):\n",
    "        ls8_ds = dc.load(product='ga_ls8c_nbart_gm_cyear_3',\n",
    "                         measurements=['red', 'green', 'blue'],\n",
    "                         time=(str(y), str(y)),\n",
    "                         output_crs='EPSG:3577',\n",
    "                         geopolygon=geom)\n",
    "\n",
    "        # Generate a polygon mask to keep only data within the polygon\n",
    "        mask = xr_rasterize(gdf.iloc[[index]], ls8_ds)\n",
    "    \n",
    "        # Mask dataset to set pixels outside the polygon to `NaN`\n",
    "        l8_site = ls8_ds.where(mask)\n",
    "    \n",
    "        # Obtain mean and std dev of pixels\n",
    "        stats = []\n",
    "        for b in ['red', 'green', 'blue']:\n",
    "            d = l8_site[b].values\n",
    "            d = d[(d != -1) & (np.isnan(d) != 1)]\n",
    "            if d.size > 1:\n",
    "                stats.append('%.2f'%np.mean(d))\n",
    "            else:\n",
    "                stats.append('No valid pixels')\n",
    "        \n",
    "        # Write to csv\n",
    "        with open('rabbit_colours.csv', 'a') as f:\n",
    "            f.write('%s,%s,%s\\n'%(ID, y, ','.join(stats)))\n"
   ]
  },
  {
   "cell_type": "code",
   "execution_count": null,
   "metadata": {},
   "outputs": [],
   "source": []
  }
 ],
 "metadata": {
  "kernelspec": {
   "display_name": "Python 3 (ipykernel)",
   "language": "python",
   "name": "python3"
  },
  "language_info": {
   "codemirror_mode": {
    "name": "ipython",
    "version": 3
   },
   "file_extension": ".py",
   "mimetype": "text/x-python",
   "name": "python",
   "nbconvert_exporter": "python",
   "pygments_lexer": "ipython3",
   "version": "3.8.10"
  }
 },
 "nbformat": 4,
 "nbformat_minor": 4
}
