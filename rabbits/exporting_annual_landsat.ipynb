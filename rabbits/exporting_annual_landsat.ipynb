{
 "cells": [
  {
   "cell_type": "code",
   "execution_count": null,
   "id": "8e544a0d-7524-48f1-9896-fd36e46c8a9e",
   "metadata": {
    "tags": []
   },
   "outputs": [],
   "source": [
    "import sys\n",
    "sys.path.append('../Tools/')\n",
    "\n",
    "import datacube\n",
    "from datacube.utils import cog\n",
    "from dea_tools.dask import create_local_dask_cluster"
   ]
  },
  {
   "cell_type": "code",
   "execution_count": null,
   "id": "c65e4a08-e30b-4e93-a614-c927a9c821f7",
   "metadata": {
    "tags": []
   },
   "outputs": [],
   "source": [
    "client = create_local_dask_cluster(return_client=True)"
   ]
  },
  {
   "cell_type": "code",
   "execution_count": null,
   "id": "558b039c-cfdd-453f-814d-c7f442d342f7",
   "metadata": {
    "tags": []
   },
   "outputs": [],
   "source": [
    "dc = datacube.Datacube(app=\"DEA_Landsat_Surface_Reflectance\")"
   ]
  },
  {
   "cell_type": "code",
   "execution_count": null,
   "id": "900117ab-1f5d-47cd-b5b8-706b73fe0a96",
   "metadata": {
    "tags": []
   },
   "outputs": [],
   "source": [
    "for y in range(2023, 2025):\n",
    "        ls8_ds = dc.load(product='ga_ls8cls9c_gm_cyear_3',\n",
    "                         measurements=['nbart_red', 'nbart_green', 'nbart_blue'],\n",
    "                         x=(112, 155),\n",
    "                         y=(-8, -44),\n",
    "                         time=(str(y), str(y)),\n",
    "                         output_crs='EPSG:3577',\n",
    "                         resolution=(-1000, 1000),\n",
    "                         dask_chunks=dict(x=1024, y=1024))\n",
    "        ds_delayed = cog.write_cog(ls8_ds.isel(time=0).to_array(), f'aus_landsat_1km_%i.tif'%y)\n",
    "        ds_delayed.compute()"
   ]
  },
  {
   "cell_type": "code",
   "execution_count": null,
   "id": "47505523-4a5b-430c-ad18-a374c7b22e91",
   "metadata": {},
   "outputs": [],
   "source": []
  }
 ],
 "metadata": {
  "kernelspec": {
   "display_name": "Python 3 (ipykernel)",
   "language": "python",
   "name": "python3"
  },
  "language_info": {
   "codemirror_mode": {
    "name": "ipython",
    "version": 3
   },
   "file_extension": ".py",
   "mimetype": "text/x-python",
   "name": "python",
   "nbconvert_exporter": "python",
   "pygments_lexer": "ipython3",
   "version": "3.10.15"
  }
 },
 "nbformat": 4,
 "nbformat_minor": 5
}
