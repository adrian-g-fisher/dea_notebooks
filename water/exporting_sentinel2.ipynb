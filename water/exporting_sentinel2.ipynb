{
 "cells": [
  {
   "cell_type": "code",
   "execution_count": null,
   "id": "8e544a0d-7524-48f1-9896-fd36e46c8a9e",
   "metadata": {
    "tags": []
   },
   "outputs": [],
   "source": [
    "import sys\n",
    "sys.path.append('../Tools/')\n",
    "\n",
    "import datacube\n",
    "from datacube.utils import cog\n",
    "from dea_tools.dask import create_local_dask_cluster"
   ]
  },
  {
   "cell_type": "code",
   "execution_count": null,
   "id": "c65e4a08-e30b-4e93-a614-c927a9c821f7",
   "metadata": {
    "tags": []
   },
   "outputs": [],
   "source": [
    "client = create_local_dask_cluster(return_client=True)"
   ]
  },
  {
   "cell_type": "code",
   "execution_count": null,
   "id": "558b039c-cfdd-453f-814d-c7f442d342f7",
   "metadata": {
    "tags": []
   },
   "outputs": [],
   "source": [
    "dc = datacube.Datacube(app=\"DEA_Sentinel2_Surface_Reflectance\")\n",
    "#dc_products = dc.list_products()\n",
    "#dc_products.loc[['ga_s2am_ard_3', 'ga_s2bm_ard_3']]\n",
    "#dc_measurements = dc.list_measurements()\n",
    "#dc_measurements.loc[['ga_s2am_ard_3']]"
   ]
  },
  {
   "cell_type": "code",
   "execution_count": null,
   "id": "900117ab-1f5d-47cd-b5b8-706b73fe0a96",
   "metadata": {
    "tags": []
   },
   "outputs": [],
   "source": [
    "sites = ['Fowlers_Gap', 'Witchelina']\n",
    "eastings_northings = [[(141.4, 142.0), (-30.8, -31.2)],\n",
    "                      [(137.5, 138.3), (-29.7, -30.6)]]\n",
    "dates = [('2023-01-05', '2023-01-07'),\n",
    "         ('2023-02-07', '2023-02-09')]\n",
    "\n",
    "for i, e_n in enumerate(eastings_northings):\n",
    "    s2_ds = dc.load(product=['ga_s2am_ard_3', 'ga_s2bm_ard_3'],\n",
    "                    measurements=['blue', 'green', 'red', 'red_edge_1', 'red_edge_2', 'red_edge_3', 'nir_1', 'swir_2', 'swir_3'],\n",
    "                    x=e_n[0],\n",
    "                    y=e_n[1],\n",
    "                    time=dates[i],\n",
    "                    output_crs='EPSG:32754',\n",
    "                    resolution=(-10, 10),\n",
    "                    resampling='cubic',\n",
    "                    dask_chunks=dict(x=1024, y=1024))\n",
    "    \n",
    "    for t in range(len(s2_ds.time)):\n",
    "        date = s2_ds.isel(time=t).time.dt.strftime('%Y%m%d').data\n",
    "        ds_delayed = cog.write_cog(s2_ds.isel(time=t).to_array(), f's2_ard_%s_%s_%i.tif'%(sites[i], date, t), overwrite=True, nodata=-999)\n",
    "        ds_delayed.compute()"
   ]
  },
  {
   "cell_type": "code",
   "execution_count": null,
   "id": "317cd31d-50e1-447d-b203-45ba1880f665",
   "metadata": {},
   "outputs": [],
   "source": []
  }
 ],
 "metadata": {
  "kernelspec": {
   "display_name": "Python 3 (ipykernel)",
   "language": "python",
   "name": "python3"
  },
  "language_info": {
   "codemirror_mode": {
    "name": "ipython",
    "version": 3
   },
   "file_extension": ".py",
   "mimetype": "text/x-python",
   "name": "python",
   "nbconvert_exporter": "python",
   "pygments_lexer": "ipython3",
   "version": "3.10.13"
  }
 },
 "nbformat": 4,
 "nbformat_minor": 5
}
